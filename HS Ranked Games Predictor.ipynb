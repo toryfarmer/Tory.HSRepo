{
 "cells": [
  {
   "cell_type": "code",
   "execution_count": 36,
   "metadata": {},
   "outputs": [],
   "source": [
    "import numpy as np\n",
    "# n: Number of Simulations\n",
    "# prob: Probability of winning a game\n",
    "# starMult: Star multiple last season\n",
    "# tier2get: Tier you want to achieve, indexed by the Star Multiplier for that tier.\n",
    "#           ex. Bronze 10-6: tier 1, Legend: tier 11\n",
    "# RETURNS: Expected # of games needed to reach your old rank. \n",
    "def simRank(n, prob, starMult, tier2get):\n",
    "    netGames = 0\n",
    "    for i in range(0,n):\n",
    "        tier = 1;\n",
    "        stars = 0;\n",
    "        games = 0;\n",
    "        winStreak = 0;        \n",
    "        while tier < tier2get:\n",
    "            wl = np.random.choice([0, 1], p=[1-prob, prob])\n",
    "            if wl == 1:\n",
    "                winStreak = winStreak + 1\n",
    "                if (winStreak > 2):\n",
    "                    stars = stars + max(starMult - tier + 1, 1)\n",
    "                stars = stars + max(starMult - tier + 1, 1)\n",
    "                if stars > 15:\n",
    "                    stars = stars - 15\n",
    "                    tier = tier + 1\n",
    "            else:\n",
    "                stars = stars - max(starMult - tier + 1, 1)\n",
    "                if stars < 0:\n",
    "                    stars = 0\n",
    "                winStreak = 0\n",
    "            games = games + 1\n",
    "        netGames = netGames + games\n",
    "    return (netGames / n)"
   ]
  },
  {
   "cell_type": "code",
   "execution_count": 38,
   "metadata": {},
   "outputs": [
    {
     "data": {
      "text/plain": [
       "52.21"
      ]
     },
     "execution_count": 38,
     "metadata": {},
     "output_type": "execute_result"
    }
   ],
   "source": [
    "simRank(n = 100, prob = .6, starMult = 9, tier2get = 9)"
   ]
  },
  {
   "cell_type": "code",
   "execution_count": null,
   "metadata": {},
   "outputs": [],
   "source": []
  }
 ],
 "metadata": {
  "kernelspec": {
   "display_name": "Python 3",
   "language": "python",
   "name": "python3"
  },
  "language_info": {
   "codemirror_mode": {
    "name": "ipython",
    "version": 3
   },
   "file_extension": ".py",
   "mimetype": "text/x-python",
   "name": "python",
   "nbconvert_exporter": "python",
   "pygments_lexer": "ipython3",
   "version": "3.7.4"
  }
 },
 "nbformat": 4,
 "nbformat_minor": 2
}
